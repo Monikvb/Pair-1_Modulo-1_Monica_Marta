{
 "cells": [
  {
   "cell_type": "markdown",
   "metadata": {},
   "source": [
    "### Listas\n",
    "#### 1.Duplicar elementos de una lista\n",
    "* Descripción: Dada una lista de números, duplica cada elemento en la lista.\n"
   ]
  },
  {
   "cell_type": "code",
   "execution_count": 4,
   "metadata": {},
   "outputs": [
    {
     "name": "stdout",
     "output_type": "stream",
     "text": [
      "[2, 4, 6, 8, 2, 4, 6, 8]\n"
     ]
    }
   ],
   "source": [
    "lista1 = [2, 4, 6, 8]\n",
    "lista2 = lista1 + lista1\n",
    "print(lista2)"
   ]
  },
  {
   "cell_type": "markdown",
   "metadata": {},
   "source": [
    "#### 2.Combinar dos listas\n",
    "* Descripción: Dadas dos listas, crea una nueva lista que contenga todos los elementos de ambas listas."
   ]
  },
  {
   "cell_type": "code",
   "execution_count": 5,
   "metadata": {},
   "outputs": [
    {
     "name": "stdout",
     "output_type": "stream",
     "text": [
      "[1, 2, 3, 4, 5, 6]\n"
     ]
    }
   ],
   "source": [
    "lista1 = [1, 2, 3]\n",
    "lista2 = [4, 5, 6]\n",
    "lista3 = lista1 + lista2\n",
    "print(lista3)"
   ]
  },
  {
   "cell_type": "markdown",
   "metadata": {},
   "source": [
    "#### 3. Calcular la suma de una lista de números\n",
    "* Descripción: Dada una lista de números, calcula la suma de todos los elementos."
   ]
  },
  {
   "cell_type": "code",
   "execution_count": 1,
   "metadata": {},
   "outputs": [
    {
     "name": "stdout",
     "output_type": "stream",
     "text": [
      "191\n"
     ]
    }
   ],
   "source": [
    "numeros1 = [23, 45, 67, 56]\n",
    "print(sum(numeros1))"
   ]
  },
  {
   "cell_type": "markdown",
   "metadata": {},
   "source": [
    "#### 4 Encontrar el valor máximo en una lista\n",
    "* Descripción: Dada una lista de números, encuentra el valor máximo."
   ]
  },
  {
   "cell_type": "code",
   "execution_count": 11,
   "metadata": {},
   "outputs": [
    {
     "data": {
      "text/plain": [
       "67"
      ]
     },
     "execution_count": 11,
     "metadata": {},
     "output_type": "execute_result"
    }
   ],
   "source": [
    "numeros1 = [23, 45, 67, 56]\n",
    "max(numeros1)"
   ]
  },
  {
   "cell_type": "markdown",
   "metadata": {},
   "source": [
    "#### 5.Calcular la longitud de una lista\n",
    "* Descripción: Dada una lista, calcula la cantidad de elementos que contiene."
   ]
  },
  {
   "cell_type": "code",
   "execution_count": 12,
   "metadata": {},
   "outputs": [
    {
     "data": {
      "text/plain": [
       "4"
      ]
     },
     "execution_count": 12,
     "metadata": {},
     "output_type": "execute_result"
    }
   ],
   "source": [
    "numeros1 = [23, 45, 67, 56]\n",
    "len(numeros1)"
   ]
  },
  {
   "cell_type": "markdown",
   "metadata": {},
   "source": [
    "#### 6.Encontrar el índice de un elemento en una lista\n",
    "* Descripción: Dada una lista y un valor objetivo, encuentra el índice del primer elemento que coincida con el valor objetivo."
   ]
  },
  {
   "cell_type": "code",
   "execution_count": 16,
   "metadata": {},
   "outputs": [
    {
     "data": {
      "text/plain": [
       "2"
      ]
     },
     "execution_count": 16,
     "metadata": {},
     "output_type": "execute_result"
    }
   ],
   "source": [
    "numeros1 = [23, 45, 67, 56]\n",
    "numeros1.index(67)"
   ]
  },
  {
   "cell_type": "markdown",
   "metadata": {},
   "source": [
    "#### 7.Contar ocurrencias de un elemento en una lista\n",
    "* Descripción: Dada una lista y un valor objetivo, cuenta cuántas veces aparece el valor objetivo en la lista."
   ]
  },
  {
   "cell_type": "code",
   "execution_count": 17,
   "metadata": {},
   "outputs": [
    {
     "data": {
      "text/plain": [
       "2"
      ]
     },
     "execution_count": 17,
     "metadata": {},
     "output_type": "execute_result"
    }
   ],
   "source": [
    "fruta = [\"pera\", \"mango\", \"pera\", \"coco\", \"fresa\"]\n",
    "fruta.count(\"pera\")"
   ]
  },
  {
   "cell_type": "markdown",
   "metadata": {},
   "source": [
    "#### 8. Obtener una sublista de una lista\n",
    "* Descripción: Dada una lista, crea una nueva lista que contenga los elementos desde el índice 2 hasta el índice 5 (sin incluirlo)."
   ]
  },
  {
   "cell_type": "code",
   "execution_count": 21,
   "metadata": {},
   "outputs": [
    {
     "name": "stdout",
     "output_type": "stream",
     "text": [
      "['pera', 'coco', 'fresa']\n"
     ]
    }
   ],
   "source": [
    "fruta = [\"pera\", \"mango\", \"pera\", \"coco\", \"fresa\", \"melon\"]\n",
    "fruta2 = fruta[2:5]\n",
    "print(fruta2)"
   ]
  },
  {
   "cell_type": "markdown",
   "metadata": {},
   "source": [
    "### 9.Obtener el último elemento de una lista\n",
    "* Descripción: Dada una lista, obtén el último elemento."
   ]
  },
  {
   "cell_type": "code",
   "execution_count": 19,
   "metadata": {},
   "outputs": [
    {
     "name": "stdout",
     "output_type": "stream",
     "text": [
      "melon\n"
     ]
    }
   ],
   "source": [
    "fruta = [\"pera\", \"mango\", \"pera\", \"coco\", \"fresa\", \"melon\"]\n",
    "print(fruta[-1])"
   ]
  },
  {
   "cell_type": "markdown",
   "metadata": {},
   "source": [
    "#### 11. Obtener una sublista de una lista\n",
    "* Descripción: Dada una lista, obtén una sublista que contenga los elementos desde el índice 1 hasta el índice 3 (sin incluirlo)."
   ]
  },
  {
   "cell_type": "code",
   "execution_count": 22,
   "metadata": {},
   "outputs": [
    {
     "name": "stdout",
     "output_type": "stream",
     "text": [
      "['mango', 'pera']\n"
     ]
    }
   ],
   "source": [
    "fruta = [\"pera\", \"mango\", \"pera\", \"coco\", \"fresa\", \"melon\"]\n",
    "print(fruta[1:3])"
   ]
  },
  {
   "cell_type": "markdown",
   "metadata": {},
   "source": [
    "#### 12. Reemplazar un elemento en una lista\n",
    "* Descripción: Dada una lista, reemplaza el segundo elemento con un nuevo valor."
   ]
  },
  {
   "cell_type": "code",
   "execution_count": 34,
   "metadata": {},
   "outputs": [
    {
     "name": "stdout",
     "output_type": "stream",
     "text": [
      "['marta', 'pepa', 'monica', 'julio', 'diego']\n"
     ]
    }
   ],
   "source": [
    "nombres = [\"marta\", \"lucia\", \"monica\", \"julio\", \"diego\"]\n",
    "nombres[1] = \"pepa\"\n",
    "#nombres.replace(\"lucia\",  \"pepa\")\n",
    "print(nombres)\n"
   ]
  },
  {
   "cell_type": "markdown",
   "metadata": {},
   "source": [
    "#### 13. Obtener una lista inversa\n",
    "* Descripción: Dada una lista, obtén una nueva lista que contenga los elementos en orden inverso."
   ]
  },
  {
   "cell_type": "code",
   "execution_count": 28,
   "metadata": {},
   "outputs": [
    {
     "name": "stdout",
     "output_type": "stream",
     "text": [
      "['diego', 'julio', 'lucia', 'monica', 'marta']\n"
     ]
    }
   ],
   "source": [
    "nombres = [\"marta\", \"monica\", \"lucia\", \"julio\", \"diego\"]\n",
    "nombres.reverse() # ¿Porqué no lo pinta sin usar el print y en otros si?\n",
    "print(nombres)"
   ]
  },
  {
   "cell_type": "markdown",
   "metadata": {},
   "source": [
    "#### 14. Ordenar una lista en orden ascendente\n",
    "* Descripción: Dada una lista de números, ordénala en orden ascendente."
   ]
  },
  {
   "cell_type": "code",
   "execution_count": 30,
   "metadata": {},
   "outputs": [
    {
     "name": "stdout",
     "output_type": "stream",
     "text": [
      "[1986, 1990, 1993, 1995, 2000]\n"
     ]
    }
   ],
   "source": [
    "años = [1993, 1990, 1995, 2000, 1986]\n",
    "años.sort()\n",
    "print(años)"
   ]
  },
  {
   "cell_type": "markdown",
   "metadata": {},
   "source": [
    "### Tuplas\n",
    "\n",
    "* Acceder al primer elemento de una tupla\n",
    "Descripción: Dada una tupla, obtén el primer elemento.\n",
    "* Acceder al último elemento de una tupla\n",
    "Descripción: Dada una tupla, obtén el último elemento.\n",
    "* Obtener la longitud de una tupla\n",
    "Descripción: Dada una tupla, obtén la cantidad de elementos que contiene.\n",
    "* Concatenar dos tuplas\n",
    "Descripción: Dadas dos tuplas, crea una nueva tupla que contenga todos los elementos de ambas tuplas.\n",
    "* Encontrar el índice de un elemento en una tupla\n",
    "Descripción: Dada una tupla y un valor objetivo, encuentra el índice del primer elemento que coincida con el valor objetivo.\n",
    "* Contar ocurrencias de un elemento en una tupla\n",
    "Descripción: Dada una tupla y un valor objetivo, cuenta cuántas veces aparece el valor objetivo en la tupla.\n",
    "* Obtener una subtuple de una tupla\n",
    "Descripción: Dada una tupla, crea una nueva tupla que contenga los elementos desde el índice 1 hasta el índice 3 (sin incluirlo).\n",
    "* Invertir una tupla\n",
    "Descripción: Dada una tupla, inviértela en orden."
   ]
  }
 ],
 "metadata": {
  "kernelspec": {
   "display_name": "Python 3",
   "language": "python",
   "name": "python3"
  },
  "language_info": {
   "codemirror_mode": {
    "name": "ipython",
    "version": 3
   },
   "file_extension": ".py",
   "mimetype": "text/x-python",
   "name": "python",
   "nbconvert_exporter": "python",
   "pygments_lexer": "ipython3",
   "version": "3.11.5"
  }
 },
 "nbformat": 4,
 "nbformat_minor": 2
}
