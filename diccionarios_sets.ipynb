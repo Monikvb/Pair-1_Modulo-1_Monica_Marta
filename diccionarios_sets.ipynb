{
 "cells": [
  {
   "cell_type": "markdown",
   "metadata": {},
   "source": [
    "1. Crear un diccionario vacío\n",
    "Descripción: Crea un diccionario vacío sin ningún par clave-valor."
   ]
  },
  {
   "cell_type": "code",
   "execution_count": null,
   "metadata": {},
   "outputs": [],
   "source": [
    "diccionario1 = {}"
   ]
  },
  {
   "cell_type": "markdown",
   "metadata": {},
   "source": [
    "2. Crear un diccionario con elementos\n",
    "Descripción: Crea un diccionario con pares clave-valor predefinidos. Definir el diccionario con las claves y valores que querais. NOTA El diccionario debe tener al menos 5 pares de clave:valor."
   ]
  },
  {
   "cell_type": "code",
   "execution_count": null,
   "metadata": {},
   "outputs": [],
   "source": [
    "diccionario2 = {\"Mónica\" : 27, \"Marta\" : 35, \"Paula\" : 32, \"Inés\" : 25, \"Laura\" : 40}"
   ]
  },
  {
   "cell_type": "markdown",
   "metadata": {},
   "source": [
    "3. Acceder al valor de una clave en un diccionario\n",
    "Descripción: Usando el diccionario creado en el paso anterior, obtén el valor correspondiente a una clave específica que indique el usuario (debereis usar la función input() para preguntar al usuario)."
   ]
  },
  {
   "cell_type": "code",
   "execution_count": 9,
   "metadata": {},
   "outputs": [
    {
     "name": "stdout",
     "output_type": "stream",
     "text": [
      "35\n"
     ]
    }
   ],
   "source": [
    "diccionario2 = {\"Mónica\" : 27, \"Marta\" : 35, \"Paula\" : 32, \"Inés\" : 25, \"Laura\" : 40}\n",
    "\n",
    "clave = input(\"¿Cómo te llamas?\")\n",
    "\n",
    "valor = diccionario2[clave]\n",
    "\n",
    "print(valor)\n"
   ]
  },
  {
   "cell_type": "code",
   "execution_count": 11,
   "metadata": {},
   "outputs": [
    {
     "name": "stdout",
     "output_type": "stream",
     "text": [
      "27\n"
     ]
    }
   ],
   "source": [
    "diccionario2 = {\"Mónica\" : 27, \"Marta\" : 35, \"Paula\" : 32, \"Inés\" : 25, \"Laura\" : 40}\n",
    "\n",
    "clave = input(\"¿Cómo te llamas?\")\n",
    "\n",
    "valor = diccionario2.get(clave, diccionario2)\n",
    "\n",
    "print(valor)"
   ]
  },
  {
   "cell_type": "code",
   "execution_count": 14,
   "metadata": {},
   "outputs": [
    {
     "name": "stdout",
     "output_type": "stream",
     "text": [
      "35\n"
     ]
    }
   ],
   "source": [
    "diccionario2 = {\"Mónica\" : 27, \"Marta\" : 35, \"Paula\" : 32, \"Inés\" : 25, \"Laura\" : 40}\n",
    "\n",
    "valor = diccionario2.get(\"Marta\")\n",
    "\n",
    "print(valor)"
   ]
  },
  {
   "cell_type": "markdown",
   "metadata": {},
   "source": [
    "4. Agregar un nuevo par clave-valor a un diccionario\n",
    "Descripción: Usando el diccionario creado en el ejercicio 2, agrega un nuevo par clave-valor."
   ]
  },
  {
   "cell_type": "code",
   "execution_count": 16,
   "metadata": {},
   "outputs": [
    {
     "name": "stdout",
     "output_type": "stream",
     "text": [
      "{'Mónica': 27, 'Marta': 35, 'Paula': 32, 'Inés': 25, 'Laura': 40, 'Pepita': 18}\n"
     ]
    }
   ],
   "source": [
    "diccionario2 = {\"Mónica\" : 27, \"Marta\" : 35, \"Paula\" : 32, \"Inés\" : 25, \"Laura\" : 40}\n",
    "\n",
    "nuevoelemento = {\"Pepita\" : 18}\n",
    "\n",
    "diccionario2.update(nuevoelemento)\n",
    "\n",
    "print(diccionario2)"
   ]
  },
  {
   "cell_type": "markdown",
   "metadata": {},
   "source": [
    "5. Actualizar el valor de una clave en un diccionario\n",
    "* Descripción: Usando el diccionario creado en el ejercicio 2, actualiza el valor correspondiente a una clave existente. Ejemplo: \n",
    "\n",
    "* dado el siguiente diccionario {'nombre': 'Ana', 'edad': 25, 'ciudad': 'Madrid', 'hijos': 1}[ \n",
    "* el ouptut esperado es: (ha cambiado el valor de la clave edad){'nombre': 'Ana', 'edad': 40, 'ciudad': 'Madrid', 'hijos': 1}"
   ]
  },
  {
   "cell_type": "code",
   "execution_count": 31,
   "metadata": {},
   "outputs": [
    {
     "name": "stdout",
     "output_type": "stream",
     "text": [
      "{'Mónica': 18, 'Marta': 35, 'Paula': 32, 'Inés': 25, 'Laura': 40}\n"
     ]
    }
   ],
   "source": [
    "diccionario2 = {\"Mónica\" : 27, \"Marta\" : 35, \"Paula\" : 32, \"Inés\" : 25, \"Laura\" : 40}\n",
    "\n",
    "diccionario2[\"Mónica\"] = 18\n",
    "\n",
    "print(diccionario2)"
   ]
  },
  {
   "cell_type": "markdown",
   "metadata": {},
   "source": [
    "6. Eliminar un par clave-valor de un diccionario\n",
    "Descripción: Usando el diccionario creado en el ejercicio 2, elimina un par clave-valor específico que indique el usuario (debereis usar la función input() para preguntar al usuario)."
   ]
  },
  {
   "cell_type": "code",
   "execution_count": 36,
   "metadata": {},
   "outputs": [
    {
     "name": "stdout",
     "output_type": "stream",
     "text": [
      "35\n",
      "{'Mónica': 27, 'Paula': 32, 'Inés': 25, 'Laura': 40}\n"
     ]
    }
   ],
   "source": [
    "diccionario2 = {\"Mónica\" : 27, \"Marta\" : 35, \"Paula\" : 32, \"Inés\" : 25, \"Laura\" : 40}\n",
    "\n",
    "clave = input(\"¿Cómo te llamas?\")\n",
    "\n",
    "valor = diccionario2.pop(clave)\n",
    "\n",
    "print(valor)\n",
    "\n",
    "print(diccionario2)\n"
   ]
  },
  {
   "cell_type": "markdown",
   "metadata": {},
   "source": [
    "7. Verificar si una clave está presente en un diccionario\n",
    "Descripción: Usando el diccionario creado en el ejercicio 2, verifica si una clave específica está presente en él. La clave a buscar debe ser pasada por el usuario, debereis usar un input()."
   ]
  },
  {
   "cell_type": "code",
   "execution_count": 39,
   "metadata": {},
   "outputs": [
    {
     "name": "stdout",
     "output_type": "stream",
     "text": [
      "True\n"
     ]
    }
   ],
   "source": [
    "diccionario2 = {\"Mónica\" : 27, \"Marta\" : 35, \"Paula\" : 32, \"Inés\" : 25, \"Laura\" : 40}\n",
    "\n",
    "clave = input(\"¿Cómo te llamas?\")\n",
    "\n",
    "valor = clave in diccionario2\n",
    "\n",
    "print(valor)\n"
   ]
  }
 ],
 "metadata": {
  "kernelspec": {
   "display_name": "Python 3",
   "language": "python",
   "name": "python3"
  },
  "language_info": {
   "codemirror_mode": {
    "name": "ipython",
    "version": 3
   },
   "file_extension": ".py",
   "mimetype": "text/x-python",
   "name": "python",
   "nbconvert_exporter": "python",
   "pygments_lexer": "ipython3",
   "version": "3.12.1"
  }
 },
 "nbformat": 4,
 "nbformat_minor": 2
}
