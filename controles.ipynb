{
 "cells": [
  {
   "cell_type": "code",
   "execution_count": null,
   "metadata": {},
   "outputs": [],
   "source": [
    "float(input('introduce número'))\n",
    "\n",
    "if number < 0: \n",
    "    print('negativo')\n",
    "elif number == 0:\n",
    "    print('es cero')\n",
    "else:\n",
    "    print('es postivo')\n"
   ]
  },
  {
   "cell_type": "code",
   "execution_count": null,
   "metadata": {},
   "outputs": [],
   "source": [
    "num = 0\n",
    "if num % 2 == 0:\n",
    "    print('es par')\n",
    "else:"
   ]
  },
  {
   "cell_type": "code",
   "execution_count": null,
   "metadata": {},
   "outputs": [],
   "source": [
    "gasto = float(input('introduce gasto'))\n",
    "if gasto >= 100:\n",
    "    print('descuento', gasto*10/100)\n",
    "else: \n",
    "    print('')\n",
    "\n",
    "gasto >= 100: \n",
    "if gasto >= 100:\n",
    "    descuento = gasto*10/100)\n",
    "else: \n",
    "    descuento = 0\n",
    "    print(' el desceuento es: ', descuento)"
   ]
  },
  {
   "cell_type": "code",
   "execution_count": null,
   "metadata": {},
   "outputs": [],
   "source": [
    "edad = 45\n",
    "if edad < 18\n",
    "    categoria = 'Menor de edad'\n",
    "elif edad >= 18 and edad <= 64:\n",
    "    categoria = ' adulto'\n",
    "else:\n",
    "    categoria = 'mayor'\n",
    "print(' categoria ', categoria)"
   ]
  },
  {
   "cell_type": "code",
   "execution_count": null,
   "metadata": {},
   "outputs": [],
   "source": [
    "contador = 1\n",
    "suma = 0\n",
    "\n",
    "while contador <= 10:\n",
    "    suma += contador\n",
    "    contador += 1\n",
    "print('suma es: ', suma)"
   ]
  },
  {
   "cell_type": "markdown",
   "metadata": {},
   "source": [
    "Repaso"
   ]
  },
  {
   "cell_type": "code",
   "execution_count": 6,
   "metadata": {},
   "outputs": [
    {
     "name": "stdout",
     "output_type": "stream",
     "text": [
      "negro\n",
      "['azul', 'rojo', 'blanco', 'negro', 'verde', ['rosa', 'morado'], 'rosa', 'morado']\n"
     ]
    },
    {
     "data": {
      "text/plain": [
       "['azul',\n",
       " 'rojo',\n",
       " 'blanco',\n",
       " 'negro',\n",
       " 'verde',\n",
       " ['rosa', 'morado'],\n",
       " 'rosa',\n",
       " 'morado',\n",
       " 'rosa',\n",
       " 'morado']"
      ]
     },
     "execution_count": 6,
     "metadata": {},
     "output_type": "execute_result"
    }
   ],
   "source": [
    "# listas\n",
    "colores = ['azul', 'rojo', 'blanco', 'negro', 'verde']\n",
    "#1,2,4,9\n",
    "print(colores[3])\n",
    "\n",
    "extra_color = ['rosa', 'morado']\n",
    "colores.append(extra_color) \n",
    "colores.extend(extra_color)\n",
    "print(colores)\n",
    "\n",
    "colores + extra_color"
   ]
  },
  {
   "cell_type": "code",
   "execution_count": 7,
   "metadata": {},
   "outputs": [
    {
     "name": "stdout",
     "output_type": "stream",
     "text": [
      "{'nombre': 'raquel', 'dni': 7373663, 'edad': 34}\n"
     ]
    }
   ],
   "source": [
    "#Diccionario\n",
    "\n",
    "info = { 'nombre': 'raquel', 'dni' : 7373663,}\n",
    "info.update({'edad' : 34 })\n",
    "print(info)"
   ]
  },
  {
   "cell_type": "code",
   "execution_count": null,
   "metadata": {},
   "outputs": [],
   "source": [
    "operacion = float(input('ingresa el número'))\n",
    "\n",
    "while == 'yes':\n",
    "    suma = 0\n",
    "\n",
    "    "
   ]
  }
 ],
 "metadata": {
  "kernelspec": {
   "display_name": "Python 3",
   "language": "python",
   "name": "python3"
  },
  "language_info": {
   "codemirror_mode": {
    "name": "ipython",
    "version": 3
   },
   "file_extension": ".py",
   "mimetype": "text/x-python",
   "name": "python",
   "nbconvert_exporter": "python",
   "pygments_lexer": "ipython3",
   "version": "3.11.5"
  }
 },
 "nbformat": 4,
 "nbformat_minor": 2
}
