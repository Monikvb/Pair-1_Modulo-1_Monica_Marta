{
 "cells": [
  {
   "cell_type": "markdown",
   "metadata": {},
   "source": [
    "### Cread tres variables numéricas de tipo integer (entero), llamadas de la siguiente forma:\n",
    "* numero1\n",
    "* numero2\n",
    "* numero3\n",
    "#### Utilizando los operadores lógicos:\n",
    "* En vuestro caso, es el numero1 mayor que el numero2\n",
    "* Es el numero1 menor que el numero2 pero mayor que el numero3\n",
    "* Es el numero3 igual que el numero2\n",
    "* Es el numero2 distinto que el numero1"
   ]
  },
  {
   "cell_type": "code",
   "execution_count": 19,
   "metadata": {},
   "outputs": [
    {
     "name": "stdout",
     "output_type": "stream",
     "text": [
      "<class 'int'>\n",
      "False\n",
      "False\n",
      "False\n",
      "True\n"
     ]
    }
   ],
   "source": [
    "numero1 = 4\n",
    "numero2 = 6\n",
    "numero3 = 8\n",
    "print(type(numero1))\n",
    "\n",
    "print(numero1 > numero2)\n",
    "print(numero1 < numero2 > numero3)\n",
    "print(numero3 == numero2)\n",
    "print(numero2 != numero1)"
   ]
  },
  {
   "cell_type": "markdown",
   "metadata": {},
   "source": [
    "### Cread dos variables numéricas de tipo float (decimal) con dos decimales, llamdas de la siguiente forma:\n",
    "* altura1\n",
    "* altura2\n",
    "#### Utilizando los operadores matemáticos aprendidos en la lección:\n",
    "* Cuál es la suma de las dos alturas\n",
    "* Cuál es la diferencia entre las alturas\n",
    "* Cuál es el resto de la división de las dos alturas\n",
    "* Cuál es resultado de la división de las dos alturas, redondead el resultado a un decimal."
   ]
  },
  {
   "cell_type": "code",
   "execution_count": 6,
   "metadata": {},
   "outputs": [
    {
     "name": "stdout",
     "output_type": "stream",
     "text": [
      "<class 'float'>\n",
      "12.600000000000001\n",
      "1.2000000000000002\n",
      "1.2105263157894737\n",
      "1.21\n"
     ]
    }
   ],
   "source": [
    "altura1 = 6.9\n",
    "altura2 = 5.7\n",
    "print(type(altura1))\n",
    "\n",
    "print(altura1 + altura2)\n",
    "print(altura1 - altura2)\n",
    "print(altura1 / altura2)\n",
    "print(round(altura1 / altura2, 1))\n"
   ]
  },
  {
   "cell_type": "markdown",
   "metadata": {},
   "source": [
    "#### Escribid un programa usando la función input() que le pregunte al usuario su nombre y apellidos. Una vez que tengamos el nombre del usuario:"
   ]
  },
  {
   "cell_type": "code",
   "execution_count": 54,
   "metadata": {},
   "outputs": [
    {
     "name": "stdout",
     "output_type": "stream",
     "text": [
      " Tu nombre completo es:  MONICA VALENCIA\n"
     ]
    }
   ],
   "source": [
    "#Printead su nombre y apellidos todo en mayúsculas\n",
    "\n",
    "nombre_completo = input(\"Ingrese su nombre y sus apellidos: \")\n",
    "print(\" Tu nombre completo es: \", nombre_completo.upper())"
   ]
  },
  {
   "cell_type": "code",
   "execution_count": 15,
   "metadata": {},
   "outputs": [
    {
     "name": "stdout",
     "output_type": "stream",
     "text": [
      " Tu nombre completo es:  monica valencia\n"
     ]
    }
   ],
   "source": [
    "#Printead su nombre y apellidos todo en minúsculas\n",
    "\n",
    "nombre_completo = input(\"Ingrese su nombre y sus apellidos: \")\n",
    "print(\" Tu nombre completo es: \", nombre_completo.lower())"
   ]
  },
  {
   "cell_type": "code",
   "execution_count": 17,
   "metadata": {},
   "outputs": [
    {
     "name": "stdout",
     "output_type": "stream",
     "text": [
      " Tu nombre completo es:  Monica Valencia\n"
     ]
    }
   ],
   "source": [
    "#Print la primera letra del nombre y apellidos con la primera letra del nombre y los apellidos en mayúscula y el resto en minúscula.\n",
    "\n",
    "nombre_completo = input(\"Ingrese su nombre y sus apellidos: \") \n",
    "print(\" Tu nombre completo es: \", nombre_completo.title())"
   ]
  },
  {
   "cell_type": "code",
   "execution_count": 18,
   "metadata": {},
   "outputs": [
    {
     "name": "stdout",
     "output_type": "stream",
     "text": [
      " Tu nombre completo es:  Monica valencia \n"
     ]
    }
   ],
   "source": [
    "#Printeas solo la primera letra del nombre en mayúscula.\n",
    "\n",
    "nombre_completo = input(\"Ingrese su nombre y sus apellidos: \") \n",
    "print(\" Tu nombre completo es: \", nombre_completo.capitalize())"
   ]
  },
  {
   "cell_type": "markdown",
   "metadata": {},
   "source": [
    "#### Escribid un programa usando la función input() que:Frase"
   ]
  },
  {
   "cell_type": "code",
   "execution_count": 20,
   "metadata": {},
   "outputs": [
    {
     "name": "stdout",
     "output_type": "stream",
     "text": [
      "como todos los gatos de oriente \n"
     ]
    }
   ],
   "source": [
    "#Le pregunte al usuario por una frase, almacenad este resultado en una variable.\n",
    "\n",
    "frase = input(\"Escribe una frase que te guste: \")\n",
    "print(frase)"
   ]
  },
  {
   "cell_type": "code",
   "execution_count": 21,
   "metadata": {},
   "outputs": [
    {
     "name": "stdout",
     "output_type": "stream",
     "text": [
      "e\n"
     ]
    }
   ],
   "source": [
    "#Le pregunte al usuario por una vocal, almacenad este resultado en una variable\n",
    "\n",
    "vocal = input(\"Dime una vocal: \")\n",
    "print(vocal)"
   ]
  },
  {
   "cell_type": "code",
   "execution_count": 24,
   "metadata": {},
   "outputs": [
    {
     "name": "stdout",
     "output_type": "stream",
     "text": [
      "todo el dia igual  E\n"
     ]
    }
   ],
   "source": [
    "#Printead la misma frase pero con la vocal introducida en mayúsulas.\n",
    "\n",
    "frase = input(\"Escribe una frase que te guste: \")\n",
    "print(frase, vocal.upper())"
   ]
  },
  {
   "cell_type": "markdown",
   "metadata": {},
   "source": [
    "#### Escribid un programa usando la función input() que: Lista"
   ]
  },
  {
   "cell_type": "code",
   "execution_count": 25,
   "metadata": {},
   "outputs": [
    {
     "name": "stdout",
     "output_type": "stream",
     "text": [
      "leche, pan, atun, agua, arroz\n"
     ]
    }
   ],
   "source": [
    "#Le pregunte al usuario por la lista de la compra, separando cada elemento por comas.\n",
    "\n",
    "lista_de_compra = input(\" Escribeme la lista de la compra, separando con comas?: \")\n",
    "print(lista_de_compra)"
   ]
  },
  {
   "cell_type": "code",
   "execution_count": 51,
   "metadata": {},
   "outputs": [
    {
     "name": "stdout",
     "output_type": "stream",
     "text": [
      "['leche', 'pan', 'atun', 'agua', 'arroz']\n"
     ]
    }
   ],
   "source": [
    "#Devolved la lista de compra donde veamos cada elemento en una línea.\n",
    "\n",
    "lista_de_compra = input(\" Escribeme la lista de la compra, separando con comas?: \")\n",
    "my_list = lista_de_compra.split(\", \")\n",
    "print(my_list)"
   ]
  },
  {
   "cell_type": "code",
   "execution_count": 53,
   "metadata": {},
   "outputs": [
    {
     "name": "stdout",
     "output_type": "stream",
     "text": [
      "leche\n",
      "pan\n",
      "atun\n",
      "agua\n",
      "arroz\n"
     ]
    }
   ],
   "source": [
    "# aqui junto la lista y lo separo por \\n que es igual a salto de linea.\n",
    "\n",
    "lista_de_compra = input(\" Escribeme la lista de la compra, separando con comas?: \")\n",
    "my_list = lista_de_compra.split(\", \")\n",
    "print(\"\\n\".join(my_list)) "
   ]
  }
 ],
 "metadata": {
  "kernelspec": {
   "display_name": "Python 3",
   "language": "python",
   "name": "python3"
  },
  "language_info": {
   "codemirror_mode": {
    "name": "ipython",
    "version": 3
   },
   "file_extension": ".py",
   "mimetype": "text/x-python",
   "name": "python",
   "nbconvert_exporter": "python",
   "pygments_lexer": "ipython3",
   "version": "3.9.7"
  }
 },
 "nbformat": 4,
 "nbformat_minor": 2
}
